{
 "cells": [
  {
   "cell_type": "code",
   "execution_count": 1,
   "metadata": {
    "collapsed": true
   },
   "outputs": [],
   "source": [
    "import csv\n",
    "import cv2\n",
    "import numpy as np"
   ]
  },
  {
   "cell_type": "code",
   "execution_count": 2,
   "metadata": {
    "collapsed": true
   },
   "outputs": [],
   "source": [
    "lines = []\n",
    "with open ('data/driving_log.csv') as csvfile:\n",
    "    reader = csv.reader(csvfile)\n",
    "    for line in reader:\n",
    "        lines.append(line)\n",
    "        \n",
    "images = []\n",
    "measurements = []\n",
    "for line in lines:\n",
    "    source_path = line[0]\n",
    "    img_file_name = source_path.split('/')[-1]\n",
    "    img_path = 'data/IMG/'+ img_file_name\n",
    "    image = cv2.imread(img_path)\n",
    "    images.append(image)\n",
    "    meas = float(line[3])\n",
    "    measurements.append(meas)\n",
    "    \n",
    "X_train = np.array(images)\n",
    "Y_train = np.array(measurements)"
   ]
  },
  {
   "cell_type": "code",
   "execution_count": 3,
   "metadata": {},
   "outputs": [
    {
     "name": "stderr",
     "output_type": "stream",
     "text": [
      "Using TensorFlow backend.\n"
     ]
    }
   ],
   "source": [
    "from keras.models import Sequential\n",
    "from keras.layers import Flatten, Dense"
   ]
  },
  {
   "cell_type": "code",
   "execution_count": 5,
   "metadata": {},
   "outputs": [
    {
     "name": "stdout",
     "output_type": "stream",
     "text": [
      "Train on 604 samples, validate on 152 samples\n",
      "Epoch 1/13\n",
      "604/604 [==============================] - 1s 1ms/step - loss: 71239979.3450 - val_loss: 5648659.8684\n",
      "Epoch 2/13\n",
      "604/604 [==============================] - 1s 1ms/step - loss: 9597228.7968 - val_loss: 6117924.5000\n",
      "Epoch 3/13\n",
      "604/604 [==============================] - 1s 1ms/step - loss: 1779423.3802 - val_loss: 229986.9276\n",
      "Epoch 4/13\n",
      "604/604 [==============================] - 1s 1ms/step - loss: 261227.4830 - val_loss: 87170.8947\n",
      "Epoch 5/13\n",
      "604/604 [==============================] - 1s 1ms/step - loss: 47124.6133 - val_loss: 15307.1453\n",
      "Epoch 6/13\n",
      "604/604 [==============================] - 1s 1ms/step - loss: 11629.6114 - val_loss: 6965.6230\n",
      "Epoch 7/13\n",
      "604/604 [==============================] - 1s 1ms/step - loss: 7950.3349 - val_loss: 4107.3214\n",
      "Epoch 8/13\n",
      "604/604 [==============================] - 1s 1ms/step - loss: 6688.5240 - val_loss: 3850.9060\n",
      "Epoch 9/13\n",
      "604/604 [==============================] - 1s 1ms/step - loss: 5356.5807 - val_loss: 3775.4335\n",
      "Epoch 10/13\n",
      "604/604 [==============================] - 1s 1ms/step - loss: 5132.2142 - val_loss: 9070.5014\n",
      "Epoch 11/13\n",
      "604/604 [==============================] - 1s 1ms/step - loss: 5769.6236 - val_loss: 3338.8702\n",
      "Epoch 12/13\n",
      "604/604 [==============================] - 1s 1ms/step - loss: 3864.7030 - val_loss: 3689.6801\n",
      "Epoch 13/13\n",
      "604/604 [==============================] - 1s 1ms/step - loss: 3115.7840 - val_loss: 3330.9968\n"
     ]
    }
   ],
   "source": [
    "model = Sequential()\n",
    "model.add(Flatten(input_shape=(160,320,3)))\n",
    "model.add(Dense(1))\n",
    "\n",
    "model.compile(loss='mse', optimizer='adam')\n",
    "model.fit(X_train, Y_train, validation_split=0.2, shuffle=True, epochs = 13)\n",
    "model.save('model-weights.h5')"
   ]
  },
  {
   "cell_type": "code",
   "execution_count": null,
   "metadata": {
    "collapsed": true
   },
   "outputs": [],
   "source": []
  }
 ],
 "metadata": {
  "kernelspec": {
   "display_name": "Python [conda env:tf_gpu]",
   "language": "python",
   "name": "conda-env-tf_gpu-py"
  },
  "language_info": {
   "codemirror_mode": {
    "name": "ipython",
    "version": 3
   },
   "file_extension": ".py",
   "mimetype": "text/x-python",
   "name": "python",
   "nbconvert_exporter": "python",
   "pygments_lexer": "ipython3",
   "version": "3.6.7"
  }
 },
 "nbformat": 4,
 "nbformat_minor": 2
}
