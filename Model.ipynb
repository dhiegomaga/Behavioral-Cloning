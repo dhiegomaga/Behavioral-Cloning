{
 "cells": [
  {
   "cell_type": "code",
   "execution_count": 1,
   "metadata": {
    "collapsed": true
   },
   "outputs": [],
   "source": [
    "import csv\n",
    "import cv2\n",
    "import sklearn\n",
    "import numpy as np\n",
    "import matplotlib.pyplot as plt\n",
    "%matplotlib inline"
   ]
  },
  {
   "cell_type": "code",
   "execution_count": 2,
   "metadata": {},
   "outputs": [
    {
     "name": "stderr",
     "output_type": "stream",
     "text": [
      "Using TensorFlow backend.\n"
     ]
    }
   ],
   "source": [
    "from keras.models import Sequential\n",
    "from keras.layers import Flatten, Dense, Lambda, Dropout, Activation, Cropping2D\n",
    "from keras.layers.convolutional import Conv2D\n",
    "from keras.layers.pooling import MaxPooling2D\n",
    "from keras import optimizers\n",
    "from keras.models import load_model\n",
    "from keras.models import Model"
   ]
  },
  {
   "cell_type": "code",
   "execution_count": 3,
   "metadata": {
    "collapsed": true
   },
   "outputs": [],
   "source": [
    "model_file = 'model.h5'\n",
    "model_weights_file = 'model-weights.h5'\n",
    "data_folder = 'data2/'"
   ]
  },
  {
   "cell_type": "code",
   "execution_count": 4,
   "metadata": {},
   "outputs": [
    {
     "name": "stdout",
     "output_type": "stream",
     "text": [
      "11110\n"
     ]
    }
   ],
   "source": [
    "# Each sample is a line from the .csv file\n",
    "\n",
    "samples = []\n",
    "with open (data_folder+'driving_log.csv') as csvfile:\n",
    "    reader = csv.reader(csvfile)\n",
    "    for sample in reader:\n",
    "        samples.append(sample)\n",
    "\n",
    "sklearn.utils.shuffle(samples)\n",
    "from sklearn.model_selection import train_test_split\n",
    "train_samples, validation_samples = train_test_split(samples, test_size=0.2)\n",
    "print(len(samples))"
   ]
  },
  {
   "cell_type": "code",
   "execution_count": 5,
   "metadata": {
    "collapsed": true
   },
   "outputs": [],
   "source": [
    "# Generator for training\n",
    "\n",
    "def generator(samples, batch_size=32):\n",
    "    num_samples = len(samples)\n",
    "    while 1: # Loop forever so the generator never terminates\n",
    "        sklearn.utils.shuffle(samples)\n",
    "        for offset in range(0, num_samples, batch_size):\n",
    "            batch_samples = samples[offset:offset+batch_size]\n",
    "\n",
    "            images = []\n",
    "            angles = []\n",
    "            for batch_sample in batch_samples:\n",
    "                name = data_folder+'/IMG/'+batch_sample[0].split('\\\\')[-1]\n",
    "                center_image = cv2.imread(name)\n",
    "                \n",
    "                # Swap BGR to RGB\n",
    "                center_image = center_image[:,:,::-1]\n",
    "                center_angle = float(batch_sample[3])\n",
    "                images.append(center_image)\n",
    "                angles.append(center_angle)\n",
    "                \n",
    "                # Flip horizontal\n",
    "                horizontal_flip = cv2.flip( center_image, 0 )\n",
    "                images.append(horizontal_flip)\n",
    "                angles.append(-center_angle)\n",
    "\n",
    "            # trim image to only see section with road\n",
    "            X_train = np.array(images)\n",
    "            y_train = np.array(angles)\n",
    "            yield sklearn.utils.shuffle(X_train, y_train)\n",
    "        \n",
    "# compile and train the model using the generator function\n",
    "train_generator = generator(train_samples, batch_size=16) # 7 min\n",
    "train_generator = generator(train_samples, batch_size=8) # 4 min\n",
    "validation_generator = generator(validation_samples, batch_size=16)"
   ]
  },
  {
   "cell_type": "code",
   "execution_count": 7,
   "metadata": {},
   "outputs": [
    {
     "ename": "KeyboardInterrupt",
     "evalue": "",
     "output_type": "error",
     "traceback": [
      "\u001b[1;31m---------------------------------------------------------------------------\u001b[0m",
      "\u001b[1;31mKeyboardInterrupt\u001b[0m                         Traceback (most recent call last)",
      "\u001b[1;32m<ipython-input-7-4b62886f714e>\u001b[0m in \u001b[0;36m<module>\u001b[1;34m()\u001b[0m\n\u001b[0;32m      8\u001b[0m     \u001b[0mimg_file_name\u001b[0m \u001b[1;33m=\u001b[0m \u001b[0msource_path\u001b[0m\u001b[1;33m.\u001b[0m\u001b[0msplit\u001b[0m\u001b[1;33m(\u001b[0m\u001b[1;34m'\\\\'\u001b[0m\u001b[1;33m)\u001b[0m\u001b[1;33m[\u001b[0m\u001b[1;33m-\u001b[0m\u001b[1;36m1\u001b[0m\u001b[1;33m]\u001b[0m\u001b[1;33m\u001b[0m\u001b[0m\n\u001b[0;32m      9\u001b[0m     \u001b[0mimg_path\u001b[0m \u001b[1;33m=\u001b[0m \u001b[1;34m'data/IMG/'\u001b[0m\u001b[1;33m+\u001b[0m \u001b[0mimg_file_name\u001b[0m\u001b[1;33m\u001b[0m\u001b[0m\n\u001b[1;32m---> 10\u001b[1;33m     \u001b[0mimage\u001b[0m \u001b[1;33m=\u001b[0m \u001b[0mcv2\u001b[0m\u001b[1;33m.\u001b[0m\u001b[0mimread\u001b[0m\u001b[1;33m(\u001b[0m\u001b[0mimg_path\u001b[0m\u001b[1;33m)\u001b[0m\u001b[1;33m\u001b[0m\u001b[0m\n\u001b[0m\u001b[0;32m     11\u001b[0m     \u001b[1;31m# Swap BGR to RGB\u001b[0m\u001b[1;33m\u001b[0m\u001b[1;33m\u001b[0m\u001b[0m\n\u001b[0;32m     12\u001b[0m     \u001b[0mimg\u001b[0m \u001b[1;33m=\u001b[0m \u001b[0mimage\u001b[0m\u001b[1;33m[\u001b[0m\u001b[1;33m:\u001b[0m\u001b[1;33m,\u001b[0m\u001b[1;33m:\u001b[0m\u001b[1;33m,\u001b[0m\u001b[1;33m:\u001b[0m\u001b[1;33m:\u001b[0m\u001b[1;33m-\u001b[0m\u001b[1;36m1\u001b[0m\u001b[1;33m]\u001b[0m\u001b[1;33m\u001b[0m\u001b[0m\n",
      "\u001b[1;31mKeyboardInterrupt\u001b[0m: "
     ]
    }
   ],
   "source": [
    "# Load data in batches using generator to feed the network on the go\n",
    "        \n",
    "images = []\n",
    "measurements = []\n",
    "for sample in samples:\n",
    "    # Center\n",
    "    source_path = sample[0]\n",
    "    img_file_name = source_path.split('\\\\')[-1]\n",
    "    img_path = 'data/IMG/'+ img_file_name\n",
    "    image = cv2.imread(img_path)\n",
    "    # Swap BGR to RGB\n",
    "    img = image[:,:,::-1]\n",
    "    images.append(img)\n",
    "    meas = float(sample[3])\n",
    "    measurements.append(meas)\n",
    "    \n",
    "    \n",
    "    # Flip image\n",
    "    horizontal_flip = cv2.flip( img, 0 )\n",
    "    images.append(horizontal_flip)\n",
    "    measurements.append(-meas)\n",
    "    \n",
    "    '''\n",
    "    # Left image\n",
    "    source_path_left = sample[1]\n",
    "    img_file_name_left = source_path_left.split('\\\\')[-1]\n",
    "    img_path_left = 'data/IMG/'+ img_file_name_left\n",
    "    image_left = cv2.imread(img_path_left)\n",
    "    img_left = image_left[:,:,::-1]\n",
    "    images.append(img_left)\n",
    "    measurements.append(meas+0.06)\n",
    "    \n",
    "    # Right image\n",
    "    source_path_right = sample[2]\n",
    "    img_file_name_right = source_path_right.split('\\\\')[-1]\n",
    "    img_path_right = 'data/IMG/'+ img_file_name_right\n",
    "    image_right = cv2.imread(img_path_right)\n",
    "    img_right = image_right[:,:,::-1]\n",
    "    images.append(img_right)\n",
    "    measurements.append(meas-0.06)\n",
    "    '''\n",
    "    \n",
    "    \n",
    "X_train = np.array(images)\n",
    "Y_train = np.array(measurements)"
   ]
  },
  {
   "cell_type": "code",
   "execution_count": 6,
   "metadata": {
    "scrolled": true
   },
   "outputs": [
    {
     "ename": "NameError",
     "evalue": "name 'X_train' is not defined",
     "output_type": "error",
     "traceback": [
      "\u001b[1;31m---------------------------------------------------------------------------\u001b[0m",
      "\u001b[1;31mNameError\u001b[0m                                 Traceback (most recent call last)",
      "\u001b[1;32m<ipython-input-6-15fbf781de46>\u001b[0m in \u001b[0;36m<module>\u001b[1;34m()\u001b[0m\n\u001b[1;32m----> 1\u001b[1;33m \u001b[0mprint\u001b[0m\u001b[1;33m(\u001b[0m\u001b[0mX_train\u001b[0m\u001b[1;33m.\u001b[0m\u001b[0mshape\u001b[0m\u001b[1;33m)\u001b[0m\u001b[1;33m\u001b[0m\u001b[0m\n\u001b[0m\u001b[0;32m      2\u001b[0m \u001b[0mprint\u001b[0m\u001b[1;33m(\u001b[0m\u001b[0mY_train\u001b[0m\u001b[1;33m.\u001b[0m\u001b[0mshape\u001b[0m\u001b[1;33m)\u001b[0m\u001b[1;33m\u001b[0m\u001b[0m\n",
      "\u001b[1;31mNameError\u001b[0m: name 'X_train' is not defined"
     ]
    }
   ],
   "source": [
    "print(X_train.shape)\n",
    "print(Y_train.shape)"
   ]
  },
  {
   "cell_type": "code",
   "execution_count": 7,
   "metadata": {
    "collapsed": true
   },
   "outputs": [],
   "source": [
    "model = Sequential()\n",
    "\n",
    "model.add(Cropping2D(cropping=((35,15), (0,0)), input_shape=(160,320,3)))\n",
    "\n",
    "#model.add(Lambda(lambda x : x / 255.0 -0.5, input_shape=(160,320,3)))\n",
    "model.add(Lambda(lambda x : x / 255.0 -0.5))\n",
    "\n",
    "# Conv layer 1: kernel = (5,5), stride = (2,2); out_depth = 24; \n",
    "model.add(Conv2D(24, kernel_size=5, activation='relu', strides=(2, 2), padding='valid'))\n",
    "\n",
    "# NO Pool layer\n",
    "# model.add(MaxPooling2D(pool_size=(2, 2), strides=None, padding='valid', data_format=None))\n",
    "\n",
    "# Conv layer 2: kernel = (5,5), stride = (2,2); out_depth = 24; \n",
    "model.add(Conv2D(36, kernel_size=5,  strides=(2, 2), activation='relu', padding='valid'))\n",
    "\n",
    "# Conv layer 3: kernel = (3,3), stride = (1,1); out_depth = 64; \n",
    "model.add(Conv2D(64, kernel_size=3, activation='relu', padding='valid'))\n",
    "\n",
    "# Conv layer 3: kernel = (3,3), stride = (1,1); out_depth = 64; \n",
    "model.add(Conv2D(64, kernel_size=3, activation='relu', padding='valid'))\n",
    "\n",
    "# Dropout layer\n",
    "model.add(Dropout(0.35, noise_shape=None, seed=None))\n",
    "\n",
    "#1st FCN Layer - Add a flatten layer\n",
    "model.add(Flatten())\n",
    "\n",
    "#2nd Layer - Add a fully connected layer\n",
    "model.add(Dense(100))\n",
    "#model.add(Activation('relu'))\n",
    "\n",
    "#3rd Layer - Add a ReLU activation layer\n",
    "model.add(Dense(50))\n",
    "#model.add(Activation('relu'))\n",
    "\n",
    "model.add(Dense(1))"
   ]
  },
  {
   "cell_type": "code",
   "execution_count": 8,
   "metadata": {},
   "outputs": [
    {
     "name": "stdout",
     "output_type": "stream",
     "text": [
      "Epoch 1/4\n",
      "8888/8888 [==============================] - 402s 45ms/step - loss: 0.0113 - val_loss: 0.0105\n",
      "Epoch 2/4\n",
      "8888/8888 [==============================] - 400s 45ms/step - loss: 0.0043 - val_loss: 0.0102\n",
      "Epoch 3/4\n",
      "8888/8888 [==============================] - 399s 45ms/step - loss: 0.0029 - val_loss: 0.0127\n",
      "Epoch 4/4\n",
      "8888/8888 [==============================] - 400s 45ms/step - loss: 0.0023 - val_loss: 0.0107\n"
     ]
    }
   ],
   "source": [
    "# Load the weights to continue training from where last stopped\n",
    "#model.load_weights(model_weights_file)\n",
    "\n",
    "epochs_train = 4\n",
    "\n",
    "# Train\n",
    "ada = optimizers.Adam(lr=0.0005, beta_1=0.9, beta_2=0.999, epsilon=None, decay=0.0, amsgrad=False)\n",
    "sgd = optimizers.SGD(lr=0.003, decay=1e-6, momentum=0.9, nesterov=True)\n",
    "model.compile(loss='mse', optimizer=ada)\n",
    "\n",
    "#history_object = model.fit(X_train, Y_train, validation_split=0.2, shuffle=True, epochs = 3)\n",
    "history_object = model.fit_generator(train_generator, steps_per_epoch= len(train_samples), validation_data=validation_generator, validation_steps=len(validation_samples), epochs=epochs_train, verbose = 1)"
   ]
  },
  {
   "cell_type": "code",
   "execution_count": 9,
   "metadata": {
    "collapsed": true
   },
   "outputs": [],
   "source": [
    "# Save the model and the weights\n",
    "model.save(model_file)\n",
    "model.save_weights(model_weights_file)"
   ]
  },
  {
   "cell_type": "code",
   "execution_count": 10,
   "metadata": {},
   "outputs": [
    {
     "name": "stdout",
     "output_type": "stream",
     "text": [
      "dict_keys(['val_loss', 'loss'])\n"
     ]
    },
    {
     "data": {
      "image/png": "[encoded data removed]",
      "text/plain": [
       "<Figure size 432x288 with 1 Axes>"
      ]
     },
     "metadata": {
      "needs_background": "light"
     },
     "output_type": "display_data"
    }
   ],
   "source": [
    "# Visualizing the loss\n",
    "\n",
    "### print the keys contained in the history object\n",
    "print(history_object.history.keys())\n",
    "\n",
    "### plot the training and validation loss for each epoch\n",
    "plt.plot(history_object.history['loss'])\n",
    "plt.plot(history_object.history['val_loss'])\n",
    "plt.title('model mean squared error loss')\n",
    "plt.ylabel('mean squared error loss')\n",
    "plt.xlabel('epoch')\n",
    "plt.legend(['training set', 'validation set'], loc='upper right')\n",
    "plt.show()\n"
   ]
  },
  {
   "cell_type": "code",
   "execution_count": 13,
   "metadata": {
    "collapsed": true
   },
   "outputs": [],
   "source": [
    "# Reset all weights\n",
    "from keras.initializers import glorot_uniform  # Or your initializer of choice\n",
    "import tensorflow as tf\n",
    "sess = tf.Session();\n",
    "initial_weights = model.get_weights()\n",
    "new_weights = [glorot_uniform()(w.shape).eval(session = sess) for w in initial_weights]"
   ]
  },
  {
   "cell_type": "code",
   "execution_count": 13,
   "metadata": {
    "collapsed": true
   },
   "outputs": [],
   "source": [
    "# Or save current weights to use next time \n",
    "new_weights = model.get_weights() "
   ]
  },
  {
   "cell_type": "code",
   "execution_count": 14,
   "metadata": {
    "collapsed": true
   },
   "outputs": [],
   "source": [
    "# RUN THIS TO RESET\n",
    "model.set_weights(new_weights)"
   ]
  },
  {
   "cell_type": "code",
   "execution_count": null,
   "metadata": {
    "collapsed": true
   },
   "outputs": [],
   "source": []
  }
 ],
 "metadata": {
  "kernelspec": {
   "display_name": "Python [conda env:py35gpu]",
   "language": "python",
   "name": "conda-env-py35gpu-py"
  },
  "language_info": {
   "codemirror_mode": {
    "name": "ipython",
    "version": 3
   },
   "file_extension": ".py",
   "mimetype": "text/x-python",
   "name": "python",
   "nbconvert_exporter": "python",
   "pygments_lexer": "ipython3",
   "version": "3.5.6"
  }
 },
 "nbformat": 4,
 "nbformat_minor": 2
}
