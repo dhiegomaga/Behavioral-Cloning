{
 "cells": [
  {
   "cell_type": "code",
   "execution_count": 1,
   "metadata": {
    "collapsed": true
   },
   "outputs": [],
   "source": [
    "import csv\n",
    "import cv2\n",
    "import sklearn\n",
    "import numpy as np\n",
    "import matplotlib.pyplot as plt\n",
    "%matplotlib inline"
   ]
  },
  {
   "cell_type": "code",
   "execution_count": 2,
   "metadata": {},
   "outputs": [
    {
     "name": "stderr",
     "output_type": "stream",
     "text": [
      "Using TensorFlow backend.\n"
     ]
    }
   ],
   "source": [
    "from keras.models import Sequential\n",
    "from keras.layers import Flatten, Dense, Lambda, Dropout, Activation, Cropping2D\n",
    "from keras.layers.convolutional import Conv2D\n",
    "from keras.layers.pooling import MaxPooling2D\n",
    "from keras import optimizers\n",
    "from keras.models import load_model\n",
    "from keras.models import Model"
   ]
  },
  {
   "cell_type": "code",
   "execution_count": 3,
   "metadata": {
    "collapsed": true
   },
   "outputs": [],
   "source": [
    "model_file = 'model.h5'\n",
    "model_weights_file = 'model-weights.h5'\n",
    "data_folder = 'data/'"
   ]
  },
  {
   "cell_type": "code",
   "execution_count": 4,
   "metadata": {},
   "outputs": [
    {
     "name": "stdout",
     "output_type": "stream",
     "text": [
      "14006\n"
     ]
    }
   ],
   "source": [
    "# Each sample is a line from the .csv file\n",
    "\n",
    "samples = []\n",
    "with open (data_folder+'driving_log.csv') as csvfile:\n",
    "    reader = csv.reader(csvfile)\n",
    "    for sample in reader:\n",
    "        samples.append(sample)\n",
    "\n",
    "sklearn.utils.shuffle(samples)\n",
    "from sklearn.model_selection import train_test_split\n",
    "train_samples, validation_samples = train_test_split(samples, test_size=0.2)\n",
    "print(len(samples))"
   ]
  },
  {
   "cell_type": "code",
   "execution_count": 5,
   "metadata": {
    "collapsed": true
   },
   "outputs": [],
   "source": [
    "# Generator for training\n",
    "\n",
    "def generator(samples, batch_size=32):\n",
    "    num_samples = len(samples)\n",
    "    while 1: # Loop forever so the generator never terminates\n",
    "        sklearn.utils.shuffle(samples)\n",
    "        for offset in range(0, num_samples, batch_size):\n",
    "            batch_samples = samples[offset:offset+batch_size]\n",
    "\n",
    "            images = []\n",
    "            angles = []\n",
    "            for batch_sample in batch_samples:\n",
    "                name = data_folder+'/IMG/'+batch_sample[0].split('\\\\')[-1]\n",
    "                center_image = cv2.imread(name)\n",
    "                \n",
    "                # Swap BGR to RGB\n",
    "                center_image = center_image[:,:,::-1]\n",
    "                center_angle = float(batch_sample[3])\n",
    "                images.append(center_image)\n",
    "                angles.append(center_angle)\n",
    "                \n",
    "                # Flip horizontal\n",
    "                horizontal_flip = cv2.flip( center_image, 0 )\n",
    "                images.append(horizontal_flip)\n",
    "                angles.append(-center_angle)\n",
    "\n",
    "            # trim image to only see section with road\n",
    "            X_train = np.array(images)\n",
    "            y_train = np.array(angles)\n",
    "            yield sklearn.utils.shuffle(X_train, y_train)\n",
    "        \n",
    "# compile and train the model using the generator function\n",
    "train_generator = generator(train_samples, batch_size=16) # 7 min\n",
    "train_generator = generator(train_samples, batch_size=8) # 4 min\n",
    "validation_generator = generator(validation_samples, batch_size=16)"
   ]
  },
  {
   "cell_type": "code",
   "execution_count": 7,
   "metadata": {
    "collapsed": true
   },
   "outputs": [],
   "source": [
    "# Define the model\n",
    "\n",
    "model = Sequential()\n",
    "\n",
    "# Crop 35 pixels from top, ad 15 pixels from bottom\n",
    "model.add(Cropping2D(cropping=((35,15), (0,0)), input_shape=(160,320,3)))\n",
    "\n",
    "#model.add(Lambda(lambda x : x / 255.0 -0.5, input_shape=(160,320,3)))\n",
    "model.add(Lambda(lambda x : x / 255.0 -0.5))\n",
    "\n",
    "# Conv layer 1: kernel = (5,5), stride = (2,2); out_depth = 24; \n",
    "model.add(Conv2D(24, kernel_size=5, activation='relu', strides=(2, 2), padding='valid'))\n",
    "\n",
    "# Conv layer 2: kernel = (5,5), stride = (2,2); out_depth = 24; \n",
    "model.add(Conv2D(36, kernel_size=5,  strides=(2, 2), activation='relu', padding='valid'))\n",
    "\n",
    "# Conv layer 3: kernel = (3,3), stride = (1,1); out_depth = 64; \n",
    "model.add(Conv2D(64, kernel_size=3, activation='relu', padding='valid'))\n",
    "\n",
    "# Conv layer 3: kernel = (3,3), stride = (1,1); out_depth = 64; \n",
    "model.add(Conv2D(64, kernel_size=3, activation='relu', padding='valid'))\n",
    "\n",
    "# Dropout layer\n",
    "model.add(Dropout(0.35, noise_shape=None, seed=None))\n",
    "\n",
    "#1st FCN Layer - Add a flatten layer\n",
    "model.add(Flatten())\n",
    "\n",
    "#2nd Layer - Add a fully connected layer\n",
    "model.add(Dense(100))\n",
    "\n",
    "#3rd Layer - Add a ReLU activation layer\n",
    "model.add(Dense(50))\n",
    "\n",
    "model.add(Dense(1))"
   ]
  },
  {
   "cell_type": "code",
   "execution_count": 8,
   "metadata": {},
   "outputs": [
    {
     "name": "stdout",
     "output_type": "stream",
     "text": [
      "Epoch 1/4\n",
      "11204/11204 [==============================] - 511s 46ms/step - loss: 0.0206 - val_loss: 0.0229\n",
      "Epoch 2/4\n",
      "11204/11204 [==============================] - 494s 44ms/step - loss: 0.0063 - val_loss: 0.0184\n",
      "Epoch 3/4\n",
      "11204/11204 [==============================] - 496s 44ms/step - loss: 0.0042 - val_loss: 0.0178\n",
      "Epoch 4/4\n",
      "11204/11204 [==============================] - 491s 44ms/step - loss: 0.0035 - val_loss: 0.0175\n"
     ]
    }
   ],
   "source": [
    "# Load the weights to continue training from where last stopped\n",
    "#model.load_weights(model_weights_file)\n",
    "\n",
    "epochs_train = 4\n",
    "\n",
    "# Train\n",
    "ada = optimizers.Adam(lr=0.0005, beta_1=0.9, beta_2=0.999, epsilon=None, decay=0.0, amsgrad=False)\n",
    "sgd = optimizers.SGD(lr=0.003, decay=1e-6, momentum=0.9, nesterov=True)\n",
    "model.compile(loss='mse', optimizer=ada)\n",
    "\n",
    "history_object = model.fit_generator(train_generator, steps_per_epoch= len(train_samples), validation_data=validation_generator, validation_steps=len(validation_samples), epochs=epochs_train, verbose = 1)"
   ]
  },
  {
   "cell_type": "code",
   "execution_count": 9,
   "metadata": {
    "collapsed": true
   },
   "outputs": [],
   "source": [
    "# Save the model and the weights\n",
    "model.save(model_file)\n",
    "model.save_weights(model_weights_file)"
   ]
  },
  {
   "cell_type": "code",
   "execution_count": 10,
   "metadata": {},
   "outputs": [
    {
     "name": "stdout",
     "output_type": "stream",
     "text": [
      "dict_keys(['val_loss', 'loss'])\n"
     ]
    },
    {
     "data": {
      "image/png": "[encoded data removed]",
      "text/plain": [
       "<matplotlib.figure.Figure at 0x2b24f2cfe10>"
      ]
     },
     "metadata": {
      "needs_background": "light"
     },
     "output_type": "display_data"
    }
   ],
   "source": [
    "# Visualizing the loss\n",
    "\n",
    "### print the keys contained in the history object\n",
    "print(history_object.history.keys())\n",
    "\n",
    "### plot the training and validation loss for each epoch\n",
    "plt.plot(history_object.history['loss'])\n",
    "plt.plot(history_object.history['val_loss'])\n",
    "plt.title('model mean squared error loss')\n",
    "plt.ylabel('mean squared error loss')\n",
    "plt.xlabel('epoch')\n",
    "plt.legend(['training set', 'validation set'], loc='upper right')\n",
    "plt.show()\n"
   ]
  },
  {
   "cell_type": "code",
   "execution_count": 13,
   "metadata": {
    "collapsed": true
   },
   "outputs": [],
   "source": [
    "# Reset all weights\n",
    "from keras.initializers import glorot_uniform  # Or your initializer of choice\n",
    "import tensorflow as tf\n",
    "sess = tf.Session();\n",
    "initial_weights = model.get_weights()\n",
    "new_weights = [glorot_uniform()(w.shape).eval(session = sess) for w in initial_weights]"
   ]
  },
  {
   "cell_type": "code",
   "execution_count": 14,
   "metadata": {
    "collapsed": true
   },
   "outputs": [],
   "source": [
    "# RUN THIS TO RESET\n",
    "model.set_weights(new_weights)"
   ]
  },
  {
   "cell_type": "code",
   "execution_count": null,
   "metadata": {
    "collapsed": true
   },
   "outputs": [],
   "source": []
  }
 ],
 "metadata": {
  "kernelspec": {
   "display_name": "Python [conda env:py35gpu]",
   "language": "python",
   "name": "conda-env-py35gpu-py"
  },
  "language_info": {
   "codemirror_mode": {
    "name": "ipython",
    "version": 3
   },
   "file_extension": ".py",
   "mimetype": "text/x-python",
   "name": "python",
   "nbconvert_exporter": "python",
   "pygments_lexer": "ipython3",
   "version": "3.5.6"
  }
 },
 "nbformat": 4,
 "nbformat_minor": 2
}
